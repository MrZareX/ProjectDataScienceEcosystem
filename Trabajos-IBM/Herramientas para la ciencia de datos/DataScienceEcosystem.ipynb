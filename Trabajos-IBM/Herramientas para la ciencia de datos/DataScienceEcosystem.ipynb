{
 "cells": [
  {
   "cell_type": "markdown",
   "metadata": {},
   "source": [
    "Ejercicio 2: Crear una celda de markdown con el título del cuaderno"
   ]
  },
  {
   "cell_type": "markdown",
   "metadata": {},
   "source": [
    "<h1> Data Science Tools and Ecosystem </h1>"
   ]
  },
  {
   "cell_type": "markdown",
   "metadata": {},
   "source": [
    "Ejercicio 3 - Crear una celda de markdown para una introducción"
   ]
  },
  {
   "cell_type": "markdown",
   "metadata": {},
   "source": [
    "En este cuaderno, se resumen las herramientas y ecosistemas de ciencia de datos."
   ]
  },
  {
   "cell_type": "markdown",
   "metadata": {},
   "source": [
    "Ejercicio 4 - Crear una celda de markdown para listar lenguajes de ciencia de datos"
   ]
  },
  {
   "cell_type": "markdown",
   "metadata": {},
   "source": [
    "Algunos de los lenguajes populares que utilizan los científicos de datos son:\n",
    "\n",
    "1. Python  \n",
    "2. R  \n",
    "3. SQL  \n",
    "4. Julia  \n",
    "5. Scala  "
   ]
  },
  {
   "cell_type": "markdown",
   "metadata": {},
   "source": [
    "Ejercicio 5 - Crear una celda de markdown para listar bibliotecas de ciencia de datos"
   ]
  },
  {
   "cell_type": "markdown",
   "metadata": {},
   "source": [
    "Algunas de las bibliotecas comúnmente utilizadas por los científicos de datos incluyen:\n",
    "1. NumPy  \n",
    "2. Pandas  \n",
    "3. Matplotlib  \n",
    "4. Scikit-learn  \n",
    "5. TensorFlow  "
   ]
  },
  {
   "cell_type": "markdown",
   "metadata": {},
   "source": [
    "Ejercicio 6 - Crear una celda de markdown con una tabla de herramientas de ciencia de datos"
   ]
  },
  {
   "cell_type": "markdown",
   "metadata": {},
   "source": [
    "| Herramientas de Ciencia de Datos |\n",
    "|----------------------------------|\n",
    "| Python                           |\n",
    "| R                                |\n",
    "| Jupyter Notebook                 |"
   ]
  },
  {
   "cell_type": "markdown",
   "metadata": {},
   "source": [
    "Ejercicio 7 - Crear una celda de markdown introduciendo ejemplos de expresiones aritméticas"
   ]
  },
  {
   "cell_type": "markdown",
   "metadata": {},
   "source": [
    "<h3> A continuación, se presentan algunos ejemplos de evaluación de expresiones aritméticas en Python. </h3>\n",
    "\n",
    "- 5 + 3 = 8  \n",
    "- 10 - 4 = 6  \n",
    "- 6 * 2 = 12  \n",
    "- 15 / 3 = 5  \n",
    "- 2 ** 3 = 8  \n",
    "- 10 % 3 = 1  "
   ]
  },
  {
   "cell_type": "markdown",
   "metadata": {},
   "source": [
    "Ejercicio 8 - Crear una celda de código para multiplicar y sumar números"
   ]
  },
  {
   "cell_type": "code",
   "execution_count": 2,
   "metadata": {},
   "outputs": [
    {
     "name": "stdout",
     "output_type": "stream",
     "text": [
      "El resultado de 6 * 2 es: 12\n",
      "El resultado de 8 + 4 es: 12\n"
     ]
    }
   ],
   "source": [
    "# Multiplicar 6 por 2\n",
    "multiplicacion = 6 * 2\n",
    "print(f\"El resultado de 6 * 2 es: {multiplicacion}\")\n",
    "\n",
    "# Sumar 8 más 4\n",
    "suma = 8 + 4\n",
    "print(f\"El resultado de 8 + 4 es: {suma}\")"
   ]
  },
  {
   "cell_type": "markdown",
   "metadata": {},
   "source": [
    "Ejercicio 9 - Crear una celda de código para convertir minutos a horas"
   ]
  },
  {
   "cell_type": "code",
   "execution_count": null,
   "metadata": {},
   "outputs": [
    {
     "name": "stdout",
     "output_type": "stream",
     "text": [
      "El resultado de 200 minutos en horas es: 3.3333333333333335\n"
     ]
    }
   ],
   "source": [
    "# Esto convertira 200 minutos a horas dividiendo por 60\n",
    "horas = 200 / 60\n",
    "print(f\"El resultado de 200 minutos en horas es: {horas}\")"
   ]
  },
  {
   "cell_type": "markdown",
   "metadata": {},
   "source": [
    "Ejercicio 10 - Insertar una celda de markdown para listar Objetivos"
   ]
  },
  {
   "cell_type": "code",
   "execution_count": null,
   "metadata": {},
   "outputs": [
    {
     "name": "stdout",
     "output_type": "stream",
     "text": [
      "Objetivos del cuaderno:\n",
      "Listar lenguajes populares para Ciencia de Datos\n",
      "Explicar operaciones aritméticas básicas en Python\n",
      "Convertir unidades de tiempo, como minutos a horas\n",
      "Utilizar estructuras de código con comentarios y salidas\n",
      "Explorar ejemplos prácticos de cálculos simples\n"
     ]
    }
   ],
   "source": [
    "# Array con los objetivos del cuaderno\n",
    "objetivos = [\n",
    "    \"Listar lenguajes populares para Ciencia de Datos\",\n",
    "    \"Explicar operaciones aritméticas básicas en Python\",\n",
    "    \"Convertir unidades de tiempo, como minutos a horas\",\n",
    "    \"Utilizar estructuras de código con comentarios y salidas\",\n",
    "    \"Explorar ejemplos prácticos de cálculos simples\"\n",
    "]\n",
    "\n",
    "# Print de cada objetivo\n",
    "print(\"Objetivos del cuaderno:\")\n",
    "for i in objetivos:\n",
    "    print(i)"
   ]
  },
  {
   "cell_type": "markdown",
   "metadata": {},
   "source": [
    "Ejercicio 11 - Crear una celda de markdown para indicar el nombre del autor"
   ]
  },
  {
   "cell_type": "markdown",
   "metadata": {},
   "source": [
    "<h2>Autor</h2>\n",
    "Christopher Chávez Pilco"
   ]
  }
 ],
 "metadata": {
  "kernelspec": {
   "display_name": "Python 3",
   "language": "python",
   "name": "python3"
  },
  "language_info": {
   "codemirror_mode": {
    "name": "ipython",
    "version": 3
   },
   "file_extension": ".py",
   "mimetype": "text/x-python",
   "name": "python",
   "nbconvert_exporter": "python",
   "pygments_lexer": "ipython3",
   "version": "3.12.3"
  }
 },
 "nbformat": 4,
 "nbformat_minor": 2
}
